{
 "cells": [
  {
   "cell_type": "code",
   "execution_count": null,
   "metadata": {},
   "outputs": [],
   "source": [
    "import pandas as pd\n",
    "import numpy as np\n",
    "import matplotlib.pyplot as plt\n",
    "import seaborn as sns\n",
    "import os\n",
    "import re\n",
    "import datetime\n",
    "\n",
    "from dateutil.parser import parse\n",
    "\n",
    "pd.set_option('display.max_rows', 1000)"
   ]
  },
  {
   "cell_type": "code",
   "execution_count": null,
   "metadata": {},
   "outputs": [],
   "source": [
    "bike_path = os.path.join('..', 'data', 'raw', '2017_Toronto_Bikeshare.csv')\n",
    "bike_path"
   ]
  },
  {
   "cell_type": "code",
   "execution_count": null,
   "metadata": {},
   "outputs": [],
   "source": [
    "df_raw = pd.read_csv(bike_path)"
   ]
  },
  {
   "cell_type": "code",
   "execution_count": null,
   "metadata": {},
   "outputs": [],
   "source": [
    "df_rand = df_raw.sample( n = 1000, random_state = 1 ).copy()\n",
    "df_rand.head(5)"
   ]
  },
  {
   "cell_type": "code",
   "execution_count": null,
   "metadata": {},
   "outputs": [],
   "source": [
    "df_rand = df_rand.sort_index(ascending=True)\n",
    "df_rdate = df_rand[['trip_id', 'trip_start_time', 'trip_stop_time', 'trip_duration_seconds']]\n",
    "df_rdate.head(10)"
   ]
  },
  {
   "cell_type": "markdown",
   "metadata": {},
   "source": [
    "#### m: 1-6 seem to be d/m/y\n",
    "#### m:7-9 seem to be m/d/y\n",
    "#### m:10 has m/d/y but some mixed in with 2010-xx-17z\n",
    "#### m:11 had m/d/y but some mixed in with 2011-xx-17\n",
    "#### m:12 has mix of m/d/y but some with 2012-xx-17\n",
    "#### first m/d/y is loc 465476"
   ]
  },
  {
   "cell_type": "code",
   "execution_count": null,
   "metadata": {},
   "outputs": [],
   "source": [
    "df_raw.iloc[465476:,:]"
   ]
  },
  {
   "cell_type": "code",
   "execution_count": null,
   "metadata": {},
   "outputs": [],
   "source": [
    "df_raw.iloc[:465476,:]"
   ]
  },
  {
   "cell_type": "code",
   "execution_count": null,
   "metadata": {},
   "outputs": [],
   "source": [
    "print(df_raw.shape)\n",
    "print(df_rdate.shape)"
   ]
  },
  {
   "cell_type": "code",
   "execution_count": null,
   "metadata": {},
   "outputs": [],
   "source": [
    "good_dtm = df_raw.iloc[465475,2]\n",
    "print(type(good_dtm))\n",
    "print(good_dtm)\n"
   ]
  },
  {
   "cell_type": "code",
   "execution_count": null,
   "metadata": {},
   "outputs": [],
   "source": [
    "slash_date = r'\\d?\\d/\\d?\\d/(\\d{1,2})?1(7|8)'\n",
    "dash_date = r'\\d{1,4}-\\d?\\d-1(7|8)'\n",
    "z = re.search(slash_date, '01/07/17 0:26')\n",
    "if z:\n",
    "    print((z.group()))\n",
    "else:\n",
    "    print('no match')"
   ]
  },
  {
   "cell_type": "code",
   "execution_count": null,
   "metadata": {},
   "outputs": [],
   "source": [
    "bad_dtm = df_raw.iloc[1187003,2]\n",
    "print(type(bad_dtm))\n",
    "print(bad_dtm)"
   ]
  },
  {
   "cell_type": "code",
   "execution_count": null,
   "metadata": {},
   "outputs": [],
   "source": [
    "z = re.search(dash_date, bad_dtm)\n",
    "if z:\n",
    "    print(z.group())\n",
    "else:\n",
    "    print('no match')"
   ]
  },
  {
   "cell_type": "code",
   "execution_count": null,
   "metadata": {},
   "outputs": [],
   "source": [
    "string = z.group()\n",
    "string[1]"
   ]
  },
  {
   "cell_type": "code",
   "execution_count": null,
   "metadata": {},
   "outputs": [],
   "source": [
    "def dash_matcher(date):\n",
    "    z = re.search(dash_date, date)\n",
    "    if z:\n",
    "        return True\n",
    "    return False"
   ]
  },
  {
   "cell_type": "code",
   "execution_count": null,
   "metadata": {},
   "outputs": [],
   "source": [
    "def slash_matcher(date):\n",
    "    z = re.search(slash_date, date)\n",
    "    if z:\n",
    "        return True\n",
    "    return False"
   ]
  },
  {
   "cell_type": "code",
   "execution_count": null,
   "metadata": {},
   "outputs": [],
   "source": [
    "df_rand['dash_reg_flag'] =  df_rand['trip_start_time'].apply(dash_matcher)\n",
    "df_rand['slash_reg_flag'] = df_rand['trip_start_time'].apply(slash_matcher)\n",
    "df_rand['date_flag'] = df_rand['dash_reg_flag'] | df_rand['slash_reg_flag']\n",
    "df_rand.tail(10)"
   ]
  },
  {
   "cell_type": "code",
   "execution_count": null,
   "metadata": {},
   "outputs": [],
   "source": [
    "df_rand['date_flag'].value_counts()"
   ]
  },
  {
   "cell_type": "code",
   "execution_count": null,
   "metadata": {},
   "outputs": [],
   "source": []
  },
  {
   "cell_type": "code",
   "execution_count": null,
   "metadata": {},
   "outputs": [],
   "source": []
  },
  {
   "cell_type": "code",
   "execution_count": null,
   "metadata": {},
   "outputs": [],
   "source": []
  },
  {
   "cell_type": "code",
   "execution_count": null,
   "metadata": {},
   "outputs": [],
   "source": [
    "date_series_1 = df_rdate['trip_start_time'].str.split(expand = True)\n",
    "df_rdate['start_date'] = date_series_1[0]\n",
    "df_rdate['start_time'] = date_series_1[1]\n",
    "date_series_2 = df_rdate['trip_stop_time'].str.split(expand = True)\n",
    "df_rdate['end_date'] = date_series_2[0]\n",
    "df_rdate['end_time'] = date_series_2[1]"
   ]
  },
  {
   "cell_type": "code",
   "execution_count": null,
   "metadata": {},
   "outputs": [],
   "source": [
    "df_rdate"
   ]
  },
  {
   "cell_type": "code",
   "execution_count": null,
   "metadata": {},
   "outputs": [],
   "source": [
    "date_series_1 = df_rdate['start_date'].str.split(expand = True)\n",
    "df_rdate['start_date'] = date_series_1[0]\n",
    "df_rdate['start_time'] = date_series_1[1]\n",
    "date_series_2 = df_rdate['stop_date'].str.split(expand = True)\n",
    "df_rdate['end_date'] = date_series_2[0]\n",
    "df_rdate['end_time'] = date_series_2[1]"
   ]
  },
  {
   "cell_type": "code",
   "execution_count": null,
   "metadata": {},
   "outputs": [],
   "source": [
    "def take_list(lst: list):\n",
    "    for x in lst:\n",
    "        print(x)"
   ]
  },
  {
   "cell_type": "code",
   "execution_count": null,
   "metadata": {},
   "outputs": [],
   "source": [
    "type(['string1', 'string2'])"
   ]
  },
  {
   "cell_type": "code",
   "execution_count": null,
   "metadata": {},
   "outputs": [],
   "source": [
    "take_list(['string1', 'string2'])"
   ]
  },
  {
   "cell_type": "code",
   "execution_count": null,
   "metadata": {},
   "outputs": [],
   "source": [
    "def mutate_df(df):\n",
    "    df['new'] = df['col1'] + df['col2']\n",
    "    return df"
   ]
  },
  {
   "cell_type": "code",
   "execution_count": null,
   "metadata": {},
   "outputs": [],
   "source": [
    "df = pd.DataFrame(data = {'col1': [1, 2], 'col2': [3, 4]})"
   ]
  },
  {
   "cell_type": "code",
   "execution_count": null,
   "metadata": {},
   "outputs": [],
   "source": [
    "df = mutate_df(df)\n",
    "df"
   ]
  },
  {
   "cell_type": "code",
   "execution_count": null,
   "metadata": {},
   "outputs": [],
   "source": [
    "df"
   ]
  }
 ],
 "metadata": {
  "kernelspec": {
   "display_name": "Python 3",
   "language": "python",
   "name": "python3"
  },
  "language_info": {
   "codemirror_mode": {
    "name": "ipython",
    "version": 3
   },
   "file_extension": ".py",
   "mimetype": "text/x-python",
   "name": "python",
   "nbconvert_exporter": "python",
   "pygments_lexer": "ipython3",
   "version": "3.7.4"
  }
 },
 "nbformat": 4,
 "nbformat_minor": 4
}
