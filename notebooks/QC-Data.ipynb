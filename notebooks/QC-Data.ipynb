{
 "cells": [
  {
   "cell_type": "code",
   "execution_count": null,
   "metadata": {},
   "outputs": [],
   "source": [
    "import pandas as pd\n",
    "import numpy as np\n",
    "import os"
   ]
  },
  {
   "cell_type": "code",
   "execution_count": null,
   "metadata": {},
   "outputs": [],
   "source": [
    "path0 = os.path.join('..', 'data', 'raw', '2017_Toronto_Bikeshare.csv')\n",
    "path1 = os.path.join( '..', 'data', 'interim', '1_tbs_with_date_flags.csv')"
   ]
  },
  {
   "cell_type": "code",
   "execution_count": null,
   "metadata": {},
   "outputs": [],
   "source": [
    "df0 = pd.read_csv(path0)\n",
    "df1 = pd.read_csv(path1, index_col = 0)"
   ]
  },
  {
   "cell_type": "markdown",
   "metadata": {},
   "source": [
    "# checking validity of first transformation\n",
    "### 1) expect 1 less row\n",
    "### 2) expect new flags appropriatly placed"
   ]
  },
  {
   "cell_type": "code",
   "execution_count": null,
   "metadata": {},
   "outputs": [],
   "source": [
    "#checking number of rows\n",
    "print('raw shape:', df0.shape)\n",
    "print('shape after 1:', df1.shape)\n"
   ]
  },
  {
   "cell_type": "code",
   "execution_count": null,
   "metadata": {},
   "outputs": [],
   "source": [
    "# find dropped rows\n",
    "print(df0.iloc[1492369, :])\n",
    "print(df0.iloc[1424602, :])"
   ]
  },
  {
   "cell_type": "code",
   "execution_count": null,
   "metadata": {},
   "outputs": [],
   "source": [
    "# Check flags\n",
    "df1.sample(n=10, random_state=1)"
   ]
  },
  {
   "cell_type": "code",
   "execution_count": null,
   "metadata": {},
   "outputs": [],
   "source": [
    "df1[~df1['trip_start_timeis_good_date'] | ~df1['trip_stop_timeis_good_date']]"
   ]
  },
  {
   "cell_type": "markdown",
   "metadata": {},
   "source": [
    "### first python file seems to work as expected\n",
    "\n",
    "# second stage \n",
    "\n",
    "### 1) number of rows does not change\n",
    "### 2) old columns are dropped\n",
    "### 3) dates seem to match\n",
    "### 4) calculated time between datetime should match time in seconds column"
   ]
  },
  {
   "cell_type": "code",
   "execution_count": null,
   "metadata": {},
   "outputs": [],
   "source": [
    "path2 = os.path.join('..', 'data', 'interim', '2_tbs_with_datetime.csv')\n",
    "df2 = pd.read_csv(path2, index_col = 0)"
   ]
  },
  {
   "cell_type": "code",
   "execution_count": null,
   "metadata": {},
   "outputs": [],
   "source": [
    "#1 - expect 1492368 rows\n",
    "print('df2 shape:', df2.shape)"
   ]
  },
  {
   "cell_type": "code",
   "execution_count": null,
   "metadata": {},
   "outputs": [],
   "source": [
    "# 2 - expect flag columns to be gone and new columns added for date\n",
    "df2['trip_start_time'] = pd.to_datetime(df2['trip_start_time'], format='%Y-%m-%d %H:%M:%S')\n",
    "df2['trip_stop_time'] = pd.to_datetime(df2['trip_stop_time'], format='%Y-%m-%d %H:%M:%S')\n",
    "df2.dtypes"
   ]
  },
  {
   "cell_type": "code",
   "execution_count": null,
   "metadata": {},
   "outputs": [],
   "source": [
    "#3 - visual check of dates\n",
    "print(df1['trip_start_time'].sample(n=4, random_state=2))\n",
    "print(df2['trip_start_time'].sample(n=4, random_state=2))\n",
    "\n",
    "print(df1['trip_stop_time'].sample(n=4, random_state=3))\n",
    "print(df2['trip_stop_time'].sample(n=4, random_state=3))"
   ]
  },
  {
   "cell_type": "code",
   "execution_count": null,
   "metadata": {},
   "outputs": [],
   "source": [
    "#4 - check calculated time compared to entries. if dataframe was off this would fail on trips crossing over days or months\n",
    "df_rand = df2.sample( n = 100000, random_state = 4 ).copy()\n",
    "df_rand = df_rand.sort_index(ascending=True)\n",
    "df_rand['check_time'] = (df_rand['trip_stop_time'] - df_rand['trip_start_time']) / np.timedelta64(1,'s')\n",
    "df_rand['time_delta'] = (df_rand['check_time'] - df_rand['trip_duration_seconds'])\n",
    "df_rand['time_flag'] = df_rand['time_delta'] > 500\n",
    "df_rand['time_flag'].value_counts()"
   ]
  },
  {
   "cell_type": "markdown",
   "metadata": {},
   "source": [
    "### Second Python File - Date formating seems on point\n",
    "\n",
    "# third stage\n",
    "\n",
    "\n",
    "### 1 - expect data types to make sense and no error reading in csv\n",
    "### 2 - expect number of rows to be constant\n",
    "### 3 - expect stop numbers to be dropped\n",
    "### 4 - expect no NaNs\n",
    "### 5 - expect names to be filed in matching old values"
   ]
  },
  {
   "cell_type": "code",
   "execution_count": null,
   "metadata": {},
   "outputs": [],
   "source": [
    "#1, #3\n",
    "path3 = os.path.join('..', 'data', 'interim', '3_tbs_all_filled.csv')\n",
    "df3 = pd.read_csv(path3, index_col = 0)\n",
    "df3['trip_start_time'] = pd.to_datetime(df3['trip_start_time'], format='%Y-%m-%d %H:%M:%S')\n",
    "df3['trip_stop_time'] = pd.to_datetime(df3['trip_stop_time'], format='%Y-%m-%d %H:%M:%S')\n",
    "print(df3.dtypes)"
   ]
  },
  {
   "cell_type": "code",
   "execution_count": null,
   "metadata": {},
   "outputs": [],
   "source": [
    "#2 expect 1492368\n",
    "df3.shape[0] == 1492368"
   ]
  },
  {
   "cell_type": "code",
   "execution_count": null,
   "metadata": {},
   "outputs": [],
   "source": [
    "#4\n",
    "df3.isnull().sum().sum() == 0"
   ]
  },
  {
   "cell_type": "code",
   "execution_count": null,
   "metadata": {},
   "outputs": [],
   "source": [
    "index =  df2[pd.isnull(df2)['user_type'] == True].iloc[:,0].tolist()\n",
    "flag = False\n",
    "for idx in index[0:-1]:\n",
    "    if str(df3.iloc[idx, 7]) != str(df2.iloc[idx, 7]):\n",
    "        flag = True\n",
    "        break\n",
    "        \n",
    "        \n",
    "if flag:\n",
    "    print('Test Failed')\n",
    "else:\n",
    "    print('Test Passed')"
   ]
  },
  {
   "cell_type": "code",
   "execution_count": null,
   "metadata": {},
   "outputs": [],
   "source": [
    "df3.tail"
   ]
  },
  {
   "cell_type": "code",
   "execution_count": null,
   "metadata": {},
   "outputs": [],
   "source": [
    "df3.tail()"
   ]
  },
  {
   "cell_type": "markdown",
   "metadata": {},
   "source": [
    "# Finally test monitization\n",
    "\n",
    "### shape adds up\n",
    "### The money adds up"
   ]
  },
  {
   "cell_type": "code",
   "execution_count": null,
   "metadata": {},
   "outputs": [],
   "source": [
    "path4 = os.path.join('..', 'data', 'processed', 'final.csv')\n",
    "df4 = pd.read_csv(path4, index_col = 0)\n",
    "df4['trip_start_time'] = pd.to_datetime(df4['trip_start_time'], format='%Y-%m-%d %H:%M:%S')\n",
    "df4['trip_stop_time'] = pd.to_datetime(df4['trip_stop_time'], format='%Y-%m-%d %H:%M:%S')"
   ]
  },
  {
   "cell_type": "code",
   "execution_count": null,
   "metadata": {},
   "outputs": [],
   "source": [
    "df4.shape[0] == 1492368"
   ]
  },
  {
   "cell_type": "code",
   "execution_count": null,
   "metadata": {},
   "outputs": [],
   "source": [
    "df4.dtypes"
   ]
  },
  {
   "cell_type": "code",
   "execution_count": null,
   "metadata": {},
   "outputs": [],
   "source": [
    "df4[~df4['overages'] % 4 == 0]"
   ]
  },
  {
   "cell_type": "code",
   "execution_count": null,
   "metadata": {},
   "outputs": [],
   "source": [
    "df4[df4['overages'] > 0].sample(n = 10)"
   ]
  }
 ],
 "metadata": {
  "kernelspec": {
   "display_name": "Python 3",
   "language": "python",
   "name": "python3"
  },
  "language_info": {
   "codemirror_mode": {
    "name": "ipython",
    "version": 3
   },
   "file_extension": ".py",
   "mimetype": "text/x-python",
   "name": "python",
   "nbconvert_exporter": "python",
   "pygments_lexer": "ipython3",
   "version": "3.7.4"
  }
 },
 "nbformat": 4,
 "nbformat_minor": 4
}
