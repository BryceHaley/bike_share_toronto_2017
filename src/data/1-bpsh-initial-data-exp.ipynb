{
 "cells": [
  {
   "cell_type": "code",
   "execution_count": 2,
   "metadata": {},
   "outputs": [],
   "source": [
    "import pandas as pd\n",
    "import numpy as np\n",
    "import matplotlib.pyplot as plt\n",
    "import seaborn as sns\n",
    "import os\n",
    "import re\n",
    "import datetime\n",
    "\n",
    "from dateutil.parser import parse"
   ]
  },
  {
   "cell_type": "code",
   "execution_count": 3,
   "metadata": {},
   "outputs": [
    {
     "data": {
      "text/plain": [
       "'../../data/raw/2017_Toronto_Bikeshare.csv'"
      ]
     },
     "execution_count": 3,
     "metadata": {},
     "output_type": "execute_result"
    }
   ],
   "source": [
    "bike_path = os.path.join('..', '..', 'data', 'raw', '2017_Toronto_Bikeshare.csv')\n",
    "bike_path"
   ]
  },
  {
   "cell_type": "code",
   "execution_count": 4,
   "metadata": {},
   "outputs": [
    {
     "name": "stderr",
     "output_type": "stream",
     "text": [
      "/Users/brycehaley/anaconda3/lib/python3.7/site-packages/IPython/core/interactiveshell.py:3051: DtypeWarning: Columns (0,4,6,7,8) have mixed types.Specify dtype option on import or set low_memory=False.\n",
      "  interactivity=interactivity, compiler=compiler, result=result)\n"
     ]
    }
   ],
   "source": [
    "df_raw = pd.read_csv(bike_path)"
   ]
  },
  {
   "cell_type": "markdown",
   "metadata": {},
   "source": [
    "# Check size and initial data types"
   ]
  },
  {
   "cell_type": "code",
   "execution_count": 5,
   "metadata": {},
   "outputs": [
    {
     "data": {
      "text/plain": [
       "1492370"
      ]
     },
     "execution_count": 5,
     "metadata": {},
     "output_type": "execute_result"
    }
   ],
   "source": [
    "df_OG = df_raw.copy()\n",
    "df_raw.shape[0]"
   ]
  },
  {
   "cell_type": "code",
   "execution_count": 6,
   "metadata": {},
   "outputs": [
    {
     "data": {
      "text/plain": [
       "trip_id                   object\n",
       "trip_start_time           object\n",
       "trip_stop_time            object\n",
       "trip_duration_seconds    float64\n",
       "from_station_id           object\n",
       "from_station_name         object\n",
       "to_station_id             object\n",
       "to_station_name           object\n",
       "user_type                 object\n",
       "dtype: object"
      ]
     },
     "execution_count": 6,
     "metadata": {},
     "output_type": "execute_result"
    }
   ],
   "source": [
    "df_raw.dtypes"
   ]
  },
  {
   "cell_type": "code",
   "execution_count": 7,
   "metadata": {},
   "outputs": [
    {
     "data": {
      "text/plain": [
       "434.0"
      ]
     },
     "execution_count": 7,
     "metadata": {},
     "output_type": "execute_result"
    }
   ],
   "source": [
    "df_raw.loc[2802, 'trip_duration_seconds']"
   ]
  },
  {
   "cell_type": "markdown",
   "metadata": {},
   "source": [
    "# remove dead last row"
   ]
  },
  {
   "cell_type": "code",
   "execution_count": 7,
   "metadata": {},
   "outputs": [
    {
     "name": "stdout",
     "output_type": "stream",
     "text": [
      "   trip_id trip_start_time trip_stop_time  trip_duration_seconds  \\\n",
      "0   712382   1/1/2017 0:00  1/1/2017 0:03                  223.0   \n",
      "1   712383   1/1/2017 0:00  1/1/2017 0:05                  279.0   \n",
      "2   712384   1/1/2017 0:05  1/1/2017 0:29                 1394.0   \n",
      "3   712385   1/1/2017 0:07  1/1/2017 0:21                  826.0   \n",
      "4   712386   1/1/2017 0:08  1/1/2017 0:12                  279.0   \n",
      "5   712387   1/1/2017 0:12  1/1/2017 0:22                  571.0   \n",
      "6   712388   1/1/2017 0:15  1/1/2017 0:33                 1084.0   \n",
      "7   712389   1/1/2017 0:15  1/1/2017 0:21                  307.0   \n",
      "8   712390   1/1/2017 0:20  1/1/2017 0:31                  647.0   \n",
      "9   712391   1/1/2017 0:23  1/1/2017 0:27                  217.0   \n",
      "10  712392   1/1/2017 0:28  1/1/2017 0:36                  467.0   \n",
      "11  712393   1/1/2017 0:28  1/1/2017 0:43                  880.0   \n",
      "12  712394   1/1/2017 0:31  1/1/2017 0:35                  228.0   \n",
      "13  712395   1/1/2017 0:33  1/1/2017 0:39                  361.0   \n",
      "14  712396   1/1/2017 0:38  1/1/2017 0:42                  227.0   \n",
      "15  712397   1/1/2017 0:53  1/1/2017 0:59                  354.0   \n",
      "16  712398   1/1/2017 0:55  1/1/2017 1:05                  591.0   \n",
      "17  712399   1/1/2017 0:59  1/1/2017 1:02                  169.0   \n",
      "18  712400   1/1/2017 0:59  1/1/2017 1:07                  451.0   \n",
      "19  712401   1/1/2017 1:02  1/1/2017 1:17                  920.0   \n",
      "20  712402   1/1/2017 1:07  1/1/2017 1:11                  256.0   \n",
      "21  712403   1/1/2017 1:12  1/1/2017 1:19                  398.0   \n",
      "22  712404   1/1/2017 1:14  1/1/2017 1:30                  982.0   \n",
      "23  712405   1/1/2017 1:29  1/1/2017 1:33                  261.0   \n",
      "24  712406   1/1/2017 1:31  1/1/2017 1:34                  182.0   \n",
      "25  712407   1/1/2017 1:31  1/1/2017 1:44                  780.0   \n",
      "26  712408   1/1/2017 1:32  1/1/2017 1:51                 1183.0   \n",
      "27  712409   1/1/2017 1:32  1/1/2017 1:40                  474.0   \n",
      "28  712410   1/1/2017 1:40  1/1/2017 1:48                  473.0   \n",
      "29  712411   1/1/2017 1:43  1/1/2017 2:00                  999.0   \n",
      "30  712412   1/1/2017 1:50  1/1/2017 1:55                  310.0   \n",
      "31  712413   1/1/2017 1:50  1/1/2017 2:06                  955.0   \n",
      "32  712414   1/1/2017 1:58  1/1/2017 2:14                  978.0   \n",
      "33  712415   1/1/2017 2:04  1/1/2017 2:19                  901.0   \n",
      "34  712416   1/1/2017 2:08  1/1/2017 2:13                  277.0   \n",
      "35  712417   1/1/2017 2:11  1/1/2017 2:22                  603.0   \n",
      "36  712418   1/1/2017 2:12  1/1/2017 2:21                  542.0   \n",
      "37  712419   1/1/2017 2:17  1/1/2017 2:25                  439.0   \n",
      "38  712420   1/1/2017 2:25  1/1/2017 2:38                  801.0   \n",
      "39  712421   1/1/2017 2:30  1/1/2017 2:43                  768.0   \n",
      "40  712422   1/1/2017 2:47  1/1/2017 2:54                  423.0   \n",
      "41  712423   1/1/2017 2:47  1/1/2017 2:53                  378.0   \n",
      "42  712424   1/1/2017 2:53  1/1/2017 2:56                  182.0   \n",
      "43  712425   1/1/2017 3:00  1/1/2017 3:15                  876.0   \n",
      "44  712426   1/1/2017 3:01  1/1/2017 3:14                  782.0   \n",
      "45  712427   1/1/2017 3:04  1/1/2017 3:12                  487.0   \n",
      "46  712428   1/1/2017 3:07  1/1/2017 3:14                  476.0   \n",
      "47  712429   1/1/2017 3:17  1/1/2017 3:46                 1702.0   \n",
      "48  712430   1/1/2017 3:25  1/1/2017 3:34                  509.0   \n",
      "49  712431   1/1/2017 3:43  1/1/2017 3:51                  494.0   \n",
      "\n",
      "   from_station_id                            from_station_name to_station_id  \\\n",
      "0             7051            Wellesley St E / Yonge St Green P          7089   \n",
      "1             7143                     Kendal Ave / Bernard Ave          7154   \n",
      "2             7113                 Parliament St / Aberdeen Ave          7199   \n",
      "3             7077                           College Park South          7010   \n",
      "4             7079                        McGill St / Church St          7047   \n",
      "5             7021                           Bay St / Albert St          7046   \n",
      "6             7161                    Beverly St / College St W          7176   \n",
      "7             7195                      Ulster St / Bathurst St          7037   \n",
      "8             7017                     Widmer St / Adelaide St           7101   \n",
      "9             7017                     Widmer St / Adelaide St           7005   \n",
      "10            7009                        King St E / Jarvis St          7016   \n",
      "11            7032                    Augusta Ave / Dundas St W          7070   \n",
      "12            7177              East Liberty St / Pirandello St          7158   \n",
      "13            7045                         Bond St / Queen St E          7060   \n",
      "14            7158                      King St W / Stafford St          7177   \n",
      "15            7022                       Simcoe St / Queen St W          7033   \n",
      "16            7077                           College Park South          7101   \n",
      "17            7028                         Gould St / Mutual St          7164   \n",
      "18            7038                         Dundas St / Yonge St          7065   \n",
      "19            7130                    Davenport Rd / Bedford Rd          7038   \n",
      "20            7042                 Sherbourne St / Wellesley St          7031   \n",
      "21            7160                     King St W / Tecumseth St          7054   \n",
      "22            7004                      University Ave / Elm St          7164   \n",
      "23            7163                           Yonge St / Wood St          7041   \n",
      "24            7164  Victoria St / Gould St (Ryerson University)          7045   \n",
      "25            7050            Richmond St E / Jarvis St Green P          7043   \n",
      "26            7133                           Summerhill Station          7049   \n",
      "27            7192                      Harbord St / Clinton St          7205   \n",
      "28            7070         25 York St (ACC/Union Station South)          7000   \n",
      "29            7059                   Front St W / Blue Jays Way          7208   \n",
      "30            7047                University Ave / Gerrard St W          7163   \n",
      "31            7023                     College St W / Borden St          7197   \n",
      "32            7073                   Bremner Blvd / Spadina Ave          7109   \n",
      "33            7054               Navy Wharf Ct. / Bremner Blvd.          7208   \n",
      "34            7038                         Dundas St / Yonge St          7044   \n",
      "35            7004                      University Ave / Elm St          7163   \n",
      "36            7004                      University Ave / Elm St          7163   \n",
      "37            7065                  Dundas St E / Parliament St          7038   \n",
      "38            7122                    Niagara St / Tecumseth St          7040   \n",
      "39            7094                              Chester Station          7042   \n",
      "40            7033                                Union Station          7016   \n",
      "41            7033                                Union Station          7016   \n",
      "42            7034                       Church St / Bloor St E          7024   \n",
      "43            7144                 Palmerston Ave / Vermont Ave          7006   \n",
      "44            7202             Queen St W / York St (City Hall)          7072   \n",
      "45            7093                     Danforth Ave / Gough Ave          7096   \n",
      "46            7077                           College Park South          7039   \n",
      "47            7039                      Simcoe St / Dundas St W          7057   \n",
      "48            7006              Bay St / College St (East Side)          7042   \n",
      "49            7163                           Yonge St / Wood St          7047   \n",
      "\n",
      "                                to_station_name user_type  \n",
      "0                          Church St  / Wood St    Member  \n",
      "1                       Bathurst Subway Station    Member  \n",
      "2                     College St W / Markham St    Member  \n",
      "3                       King St W / Spadina Ave    Member  \n",
      "4                 University Ave / Gerrard St W    Member  \n",
      "5                    Niagara St / Richmond St W    Member  \n",
      "6                  Bathurst St / Fort York Blvd    Member  \n",
      "7                     Bathurst St / Dundas St W    Member  \n",
      "8           Lower Sherbourne St / The Esplanade    Member  \n",
      "9                    University Ave / King St W    Member  \n",
      "10      Bay St / Queens Quay W (Ferry Terminal)    Member  \n",
      "11         25 York St (ACC/Union Station South)    Member  \n",
      "12                      King St W / Stafford St    Member  \n",
      "13                    Princess St / Adelaide St    Member  \n",
      "14              East Liberty St / Pirandello St    Member  \n",
      "15                                Union Station    Member  \n",
      "16          Lower Sherbourne St / The Esplanade    Member  \n",
      "17  Victoria St / Gould St (Ryerson University)    Member  \n",
      "18                  Dundas St E / Parliament St    Member  \n",
      "19                         Dundas St / Yonge St    Member  \n",
      "20                      Jarvis St / Isabella St    Member  \n",
      "21               Navy Wharf Ct. / Bremner Blvd.    Member  \n",
      "22  Victoria St / Gould St (Ryerson University)    Member  \n",
      "23                         Edward St / Yonge St    Member  \n",
      "24                         Bond St / Queen St E    Member  \n",
      "25              Queens Quay W / Lower Simcoe St    Member  \n",
      "26                     Queen St W / Portland St    Member  \n",
      "27            Rusholme Park Cres / College St W    Casual  \n",
      "28                Fort York  Blvd / Capreol Crt    Member  \n",
      "29             80 Clinton St (North of College)    Member  \n",
      "30                           Yonge St / Wood St    Member  \n",
      "31                   Queen St W / Dovercourt Rd    Member  \n",
      "32                      Seaton St / Dundas St E    Member  \n",
      "33             80 Clinton St (North of College)    Member  \n",
      "34                     Church St / Alexander St    Member  \n",
      "35                           Yonge St / Wood St    Member  \n",
      "36                           Yonge St / Wood St    Member  \n",
      "37                         Dundas St / Yonge St    Member  \n",
      "38                      Euclid Ave / Bloor St W    Member  \n",
      "39                 Sherbourne St / Wellesley St    Member  \n",
      "40      Bay St / Queens Quay W (Ferry Terminal)    Member  \n",
      "41      Bay St / Queens Quay W (Ferry Terminal)    Member  \n",
      "42                     Dundonald St / Church St    Member  \n",
      "43              Bay St / College St (East Side)    Member  \n",
      "44                         Queen St W / Shaw St    Member  \n",
      "45                      Boston Ave / Queen St E    Member  \n",
      "46                      Simcoe St / Dundas St W    Member  \n",
      "47                  Simcoe St / Wellington St W    Member  \n",
      "48                 Sherbourne St / Wellesley St    Member  \n",
      "49                University Ave / Gerrard St W    Member  \n",
      "         trip_id    trip_start_time     trip_stop_time  trip_duration_seconds  \\\n",
      "1492319  2383597  12/31/17 19:33:33  12/31/17 19:43:51                  618.0   \n",
      "1492320  2383598  12/31/17 19:38:56  12/31/17 19:48:56                  600.0   \n",
      "1492321  2383599  12/31/17 19:39:54  12/31/17 19:44:00                  246.0   \n",
      "1492322  2383600  12/31/17 19:45:45  12/31/17 19:50:44                  299.0   \n",
      "1492323  2383601  12/31/17 19:49:51  12/31/17 19:58:01                  490.0   \n",
      "1492324  2383602  12/31/17 19:52:42  12/31/17 19:58:31                  349.0   \n",
      "1492325  2383603  12/31/17 20:02:04  12/31/17 20:05:24                  200.0   \n",
      "1492326  2383604  12/31/17 20:03:13  12/31/17 20:10:10                  417.0   \n",
      "1492327  2383605  12/31/17 20:08:30  12/31/17 20:19:40                  670.0   \n",
      "1492328  2383606  12/31/17 20:10:42  12/31/17 20:21:20                  638.0   \n",
      "1492329  2383607  12/31/17 20:19:27  12/31/17 20:43:18                 1431.0   \n",
      "1492330  2383608  12/31/17 20:22:46  12/31/17 20:45:41                 1375.0   \n",
      "1492331  2383609  12/31/17 20:24:20  12/31/17 20:31:24                  424.0   \n",
      "1492332  2383610  12/31/17 20:34:08  12/31/17 20:39:43                  335.0   \n",
      "1492333  2383611  12/31/17 20:34:33  12/31/17 20:42:18                  465.0   \n",
      "1492334  2383612  12/31/17 20:36:57  12/31/17 20:42:58                  361.0   \n",
      "1492335  2383613  12/31/17 20:39:41  12/31/17 20:45:13                  332.0   \n",
      "1492336  2383614  12/31/17 20:52:16  12/31/17 20:55:37                  201.0   \n",
      "1492337  2383615  12/31/17 20:59:25  12/31/17 21:07:44                  499.0   \n",
      "1492338  2383616  12/31/17 21:04:40  12/31/17 21:09:44                  304.0   \n",
      "1492339  2383617  12/31/17 21:14:17  12/31/17 21:31:58                 1061.0   \n",
      "1492340  2383618  12/31/17 21:20:29  12/31/17 21:27:42                  433.0   \n",
      "1492341  2383619  12/31/17 21:23:02  12/31/17 21:26:03                  181.0   \n",
      "1492342  2383620  12/31/17 21:24:37  12/31/17 21:44:38                 1201.0   \n",
      "1492343  2383621  12/31/17 21:27:00  12/31/17 21:36:30                  570.0   \n",
      "1492344  2383622  12/31/17 21:34:11  12/31/17 21:42:57                  526.0   \n",
      "1492345  2383623  12/31/17 21:36:26  12/31/17 21:47:24                  658.0   \n",
      "1492346  2383624  12/31/17 21:46:49  12/31/17 21:52:14                  325.0   \n",
      "1492347  2383625  12/31/17 21:52:56  12/31/17 21:57:12                  256.0   \n",
      "1492348  2383626  12/31/17 21:53:24  12/31/17 22:01:58                  514.0   \n",
      "1492349  2383627  12/31/17 22:10:04  12/31/17 22:21:02                  658.0   \n",
      "1492350  2383628  12/31/17 22:17:32  12/31/17 22:39:50                 1338.0   \n",
      "1492351  2383629  12/31/17 22:35:58  12/31/17 22:43:07                  429.0   \n",
      "1492352  2383630  12/31/17 22:46:45  12/31/17 22:55:07                  502.0   \n",
      "1492353  2383631  12/31/17 23:02:57  12/31/17 23:15:38                  761.0   \n",
      "1492354  2383632  12/31/17 23:04:39  12/31/17 23:08:02                  203.0   \n",
      "1492355  2383633  12/31/17 23:09:17  12/31/17 23:21:10                  713.0   \n",
      "1492356  2383634  12/31/17 23:10:56  12/31/17 23:26:36                  940.0   \n",
      "1492357  2383635  12/31/17 23:12:31  12/31/17 23:16:55                  264.0   \n",
      "1492358  2383636  12/31/17 23:13:02  12/31/17 23:16:03                  181.0   \n",
      "1492359  2383637  12/31/17 23:17:11  12/31/17 23:23:16                  365.0   \n",
      "1492360  2383638  12/31/17 23:26:59  12/31/17 23:37:41                  642.0   \n",
      "1492361  2383639  12/31/17 23:35:41  12/31/17 23:54:33                 1132.0   \n",
      "1492362  2383640  12/31/17 23:37:43  12/31/17 23:43:00                  317.0   \n",
      "1492363  2383641  12/31/17 23:42:06  12/31/17 23:58:24                  978.0   \n",
      "1492364  2383642  12/31/17 23:46:27  12/31/17 23:46:53                   26.0   \n",
      "1492365  2383643  12/31/17 23:47:13    2001-01-18 0:11                 1467.0   \n",
      "1492366  2383644  12/31/17 23:47:40  12/31/17 23:57:49                  609.0   \n",
      "1492367  2383645  12/31/17 23:49:08  12/31/17 23:49:34                   26.0   \n",
      "1492368  2383646  12/31/17 23:49:41  12/31/17 23:57:41                  480.0   \n",
      "\n",
      "                                     from_station_id  \\\n",
      "1492319              Bay St / College St (East Side)   \n",
      "1492320                   St. George St / Bloor St W   \n",
      "1492321                University Ave / Gerrard St W   \n",
      "1492322                       Hanna Ave / Liberty St   \n",
      "1492323                       College St / Borden St   \n",
      "1492324                      Seaton St / Dundas St E   \n",
      "1492325                 Glen Edyth Dr / Davenport Rd   \n",
      "1492326             Front St W / Bay St (South Side)   \n",
      "1492327           Queen St E / George St (Moss Park)   \n",
      "1492328                         Queen St W / Shaw St   \n",
      "1492329                 Bathurst St / Fort York Blvd   \n",
      "1492330                   Ossington Ave / College St   \n",
      "1492331              Queens Quay W / Lower Simcoe St   \n",
      "1492332              East Liberty St / Pirandello St   \n",
      "1492333                    Beverly  St / Dundas St W   \n",
      "1492334                   Front St W / Blue Jays Way   \n",
      "1492335                        Nelson St / Duncan St   \n",
      "1492336              East Liberty St / Pirandello St   \n",
      "1492337  Victoria St / Gould St (Ryerson University)   \n",
      "1492338                  Bathurst St / Queens Quay W   \n",
      "1492339            Stewart St / Bathurst St  - SMART   \n",
      "1492340                   Bremner Blvd / Spadina Ave   \n",
      "1492341                           College Park South   \n",
      "1492342                      Jarvis St / Isabella St   \n",
      "1492343              Bay St / College St (East Side)   \n",
      "1492344                      University Ave / Elm St   \n",
      "1492345          Lower Sherbourne St / The Esplanade   \n",
      "1492346                        Queen St W / James St   \n",
      "1492347                       Jarvis St / Carlton St   \n",
      "1492348                        Nelson St / Duncan St   \n",
      "1492349                       College St / Borden St   \n",
      "1492350                 John St  / Mercer St - SMART   \n",
      "1492351                     Church St / Alexander St   \n",
      "1492352                   Central Tech  (Harbord St)   \n",
      "1492353                       Queen St W / Cowan Ave   \n",
      "1492354          Wellesley St E / Yonge St (Green P)   \n",
      "1492355                 John St  / Mercer St - SMART   \n",
      "1492356                  Princess St / Adelaide St E   \n",
      "1492357                  Queen St E / Larchmount Ave   \n",
      "1492358                     Spadina Ave / Sussex Ave   \n",
      "1492359                    Howard St / Sherbourne St   \n",
      "1492360             80 Clinton St (North of College)   \n",
      "1492361                                Union Station   \n",
      "1492362                   Ossington Ave / Bloor St W   \n",
      "1492363      Elizabeth St / Edward St (Bus Terminal)   \n",
      "1492364                     Bloor St / Brunswick Ave   \n",
      "1492365                     Bloor St / Brunswick Ave   \n",
      "1492366                      Kendal Ave / Spadina Rd   \n",
      "1492367                      Phoebe St / Spadina Ave   \n",
      "1492368                      Phoebe St / Spadina Ave   \n",
      "\n",
      "                            from_station_name to_station_id to_station_name  \\\n",
      "1492319                College St / Borden St        Member             NaN   \n",
      "1492320          John St  / Mercer St - SMART        Member             NaN   \n",
      "1492321             Beverly  St / Dundas St W        Member             NaN   \n",
      "1492322            Queen St W / Dovercourt Rd        Member             NaN   \n",
      "1492323                Roxton Rd / College St        Member             NaN   \n",
      "1492324           Princess St / Adelaide St E        Member             NaN   \n",
      "1492325           Macpherson Ave / Spadina Rd        Member             NaN   \n",
      "1492326   Lower Sherbourne St / The Esplanade        Member             NaN   \n",
      "1492327                 Nelson St / Duncan St        Member             NaN   \n",
      "1492328            Ossington Ave / Bloor St W        Member             NaN   \n",
      "1492329                Trinity St /Front St E        Member             NaN   \n",
      "1492330          Bathurst St / Fort York Blvd        Member             NaN   \n",
      "1492331            Front St W / Blue Jays Way        Member             NaN   \n",
      "1492332            Niagara St / Richmond St W        Member             NaN   \n",
      "1492333       Church St / Dundas St E - SMART        Member             NaN   \n",
      "1492334       Queens Quay W / Lower Simcoe St        Member             NaN   \n",
      "1492335            Front St W / Blue Jays Way        Member             NaN   \n",
      "1492336          Exhibition GO (Atlantic Ave)        Member             NaN   \n",
      "1492337  161 Bleecker St (South of Wellesley)        Member             NaN   \n",
      "1492338         Wellington St W / Portland St        Member             NaN   \n",
      "1492339        Robert St / Bloor St W - SMART        Member             NaN   \n",
      "1492340               York St / Queens Quay W        Member             NaN   \n",
      "1492341       Bay St / College St (East Side)        Member             NaN   \n",
      "1492342     Stewart St / Bathurst St  - SMART        Member             NaN   \n",
      "1492343                College St / Borden St        Member             NaN   \n",
      "1492344     Richmond St E / Jarvis St Green P        Member             NaN   \n",
      "1492345      Queen St W / York St (City Hall)        Member             NaN   \n",
      "1492346                 Nelson St / Duncan St        Member             NaN   \n",
      "1492347            Parliament St / Gerrard St        Member             NaN   \n",
      "1492348            Niagara St / Richmond St W        Member             NaN   \n",
      "1492349               Kendal Ave / Spadina Rd        Member             NaN   \n",
      "1492350        Sherbourne St / Wellesley St E        Member             NaN   \n",
      "1492351        Sherbourne St / Wellesley St E        Member             NaN   \n",
      "1492352            Ossington Ave / College St        Member             NaN   \n",
      "1492353           Ossington Ave / Harrison St        Member             NaN   \n",
      "1492354                Bay St / St. Joseph St        Member             NaN   \n",
      "1492355                  Gould St / Mutual St        Member             NaN   \n",
      "1492356     Baldwin Ave / Spadina Ave - SMART        Member             NaN   \n",
      "1492357               Boston Ave / Queen St E        Member             NaN   \n",
      "1492358            St. George St / Bloor St W        Member             NaN   \n",
      "1492359              Church St / Alexander St        Member             NaN   \n",
      "1492360       East Liberty St / Pirandello St        Member             NaN   \n",
      "1492361        Dundas St E / Regent Park Blvd        Member             NaN   \n",
      "1492362            Ossington Ave / College St        Member             NaN   \n",
      "1492363                Roxton Rd / College St        Member             NaN   \n",
      "1492364              Bloor St / Brunswick Ave        Casual             NaN   \n",
      "1492365              HTO Park (Queens Quay W)        Casual             NaN   \n",
      "1492366              Augusta Ave / Denison Sq        Member             NaN   \n",
      "1492367               Phoebe St / Spadina Ave        Member             NaN   \n",
      "1492368                Simcoe St / Queen St W        Member             NaN   \n",
      "\n",
      "        user_type  \n",
      "1492319       NaN  \n",
      "1492320       NaN  \n",
      "1492321       NaN  \n",
      "1492322       NaN  \n",
      "1492323       NaN  \n",
      "1492324       NaN  \n",
      "1492325       NaN  \n",
      "1492326       NaN  \n",
      "1492327       NaN  \n",
      "1492328       NaN  \n",
      "1492329       NaN  \n",
      "1492330       NaN  \n",
      "1492331       NaN  \n",
      "1492332       NaN  \n",
      "1492333       NaN  \n",
      "1492334       NaN  \n",
      "1492335       NaN  \n",
      "1492336       NaN  \n",
      "1492337       NaN  \n",
      "1492338       NaN  \n",
      "1492339       NaN  \n",
      "1492340       NaN  \n",
      "1492341       NaN  \n",
      "1492342       NaN  \n",
      "1492343       NaN  \n",
      "1492344       NaN  \n",
      "1492345       NaN  \n",
      "1492346       NaN  \n",
      "1492347       NaN  \n",
      "1492348       NaN  \n",
      "1492349       NaN  \n",
      "1492350       NaN  \n",
      "1492351       NaN  \n",
      "1492352       NaN  \n",
      "1492353       NaN  \n",
      "1492354       NaN  \n",
      "1492355       NaN  \n",
      "1492356       NaN  \n",
      "1492357       NaN  \n",
      "1492358       NaN  \n",
      "1492359       NaN  \n",
      "1492360       NaN  \n",
      "1492361       NaN  \n",
      "1492362       NaN  \n",
      "1492363       NaN  \n",
      "1492364       NaN  \n",
      "1492365       NaN  \n",
      "1492366       NaN  \n",
      "1492367       NaN  \n",
      "1492368       NaN  \n"
     ]
    }
   ],
   "source": [
    "last_row = len(df_raw) - 1\n",
    "df_raw = df_raw.drop(df_raw.index[last_row])\n",
    "print(df_raw.head(50))\n",
    "print(df_raw.tail(50))"
   ]
  },
  {
   "cell_type": "markdown",
   "metadata": {},
   "source": [
    "# check date validity"
   ]
  },
  {
   "cell_type": "code",
   "execution_count": null,
   "metadata": {},
   "outputs": [],
   "source": [
    "def is_date(string, fuzzy=False):\n",
    "    \"\"\"\n",
    "    Return whether the string can be interpreted as a date.\n",
    "\n",
    "    :param string: str, string to check for date\n",
    "    :param fuzzy: bool, ignore unknown tokens in string if True\n",
    "    \"\"\"\n",
    "    try: \n",
    "        parse(string, fuzzy=fuzzy)\n",
    "        return True\n",
    "\n",
    "    except ValueError:\n",
    "        return False"
   ]
  },
  {
   "cell_type": "code",
   "execution_count": null,
   "metadata": {},
   "outputs": [],
   "source": [
    "df_raw['stop_flag'] = (df_raw['trip_stop_time'].apply(is_date) & df_raw['trip_stop_time'].apply(is_date))"
   ]
  },
  {
   "cell_type": "code",
   "execution_count": null,
   "metadata": {},
   "outputs": [],
   "source": [
    "df_raw['stop_flag'].value_counts()"
   ]
  },
  {
   "cell_type": "code",
   "execution_count": null,
   "metadata": {},
   "outputs": [],
   "source": [
    "df_raw[df_raw['stop_flag'] == False]"
   ]
  },
  {
   "cell_type": "code",
   "execution_count": null,
   "metadata": {},
   "outputs": [],
   "source": [
    "df_raw = df_raw.drop( df_raw[df_raw['stop_flag'] == False].index)"
   ]
  },
  {
   "cell_type": "markdown",
   "metadata": {},
   "source": [
    "# Check date order"
   ]
  },
  {
   "cell_type": "code",
   "execution_count": null,
   "metadata": {},
   "outputs": [],
   "source": [
    "start_date_list = df_raw['trip_start_time'].values\n",
    "start_date_list"
   ]
  },
  {
   "cell_type": "code",
   "execution_count": null,
   "metadata": {},
   "outputs": [],
   "source": [
    "pd.to_datetime('12/31/17', dayfirst = True)"
   ]
  },
  {
   "cell_type": "code",
   "execution_count": null,
   "metadata": {},
   "outputs": [],
   "source": []
  },
  {
   "cell_type": "code",
   "execution_count": null,
   "metadata": {},
   "outputs": [],
   "source": []
  },
  {
   "cell_type": "code",
   "execution_count": null,
   "metadata": {},
   "outputs": [],
   "source": []
  },
  {
   "cell_type": "code",
   "execution_count": null,
   "metadata": {},
   "outputs": [],
   "source": [
    "df_raw['trip_start_time'] = pd.to_datetime(df_raw['trip_start_time'])\n",
    "df_raw['trip_stop_time'] = pd.to_datetime(df_raw['trip_stop_time'])"
   ]
  },
  {
   "cell_type": "code",
   "execution_count": null,
   "metadata": {},
   "outputs": [],
   "source": [
    "print('shape:', df_raw.shape)\n",
    "print(df_raw.dtypes)\n",
    "df_ttimes = df_raw"
   ]
  },
  {
   "cell_type": "markdown",
   "metadata": {},
   "source": [
    "# Check trip times"
   ]
  },
  {
   "cell_type": "code",
   "execution_count": null,
   "metadata": {},
   "outputs": [],
   "source": [
    "df_ttimes['check_time'] = (df_ttimes['trip_stop_time'] - df_ttimes['trip_start_time']) / np.timedelta64(1,'s')\n",
    "df_ttimes.head()"
   ]
  },
  {
   "cell_type": "code",
   "execution_count": null,
   "metadata": {},
   "outputs": [],
   "source": [
    "df_ttimes['time_delta'] = (df_ttimes['check_time'] - df_ttimes['trip_duration_seconds'])\n",
    "df_ttimes.head()"
   ]
  },
  {
   "cell_type": "code",
   "execution_count": null,
   "metadata": {},
   "outputs": [],
   "source": [
    "df_ttimes['time_flag'] = df_ttimes['time_delta'] > 500\n",
    "df_ttimes.head()"
   ]
  },
  {
   "cell_type": "code",
   "execution_count": null,
   "metadata": {},
   "outputs": [],
   "source": [
    "df_raw['time_flag'].value_counts()"
   ]
  },
  {
   "cell_type": "markdown",
   "metadata": {},
   "source": [
    "# Examine bad times"
   ]
  },
  {
   "cell_type": "code",
   "execution_count": null,
   "metadata": {},
   "outputs": [],
   "source": [
    "df_badtimes = df_ttimes[ df_ttimes['time_flag'] == True].copy()\n",
    "df_badtimes"
   ]
  },
  {
   "cell_type": "markdown",
   "metadata": {},
   "source": [
    "# Find when Date format changes"
   ]
  },
  {
   "cell_type": "code",
   "execution_count": null,
   "metadata": {},
   "outputs": [],
   "source": [
    "df_dates = df_ttimes[['trip_start_time', 'trip_stop_time']].copy()\n",
    "df_dates.head()"
   ]
  },
  {
   "cell_type": "code",
   "execution_count": null,
   "metadata": {},
   "outputs": [],
   "source": []
  },
  {
   "cell_type": "code",
   "execution_count": null,
   "metadata": {},
   "outputs": [],
   "source": []
  },
  {
   "cell_type": "code",
   "execution_count": null,
   "metadata": {},
   "outputs": [],
   "source": [
    "df_dates['year_flag'] = (df_dates['trip_start_time'].dt.year == 2017) & (df_dates['trip_stop_time'].dt.year == 2017) "
   ]
  },
  {
   "cell_type": "code",
   "execution_count": null,
   "metadata": {},
   "outputs": [],
   "source": [
    "df_dates['year_flag'].value_counts()"
   ]
  },
  {
   "cell_type": "code",
   "execution_count": null,
   "metadata": {},
   "outputs": [],
   "source": [
    "df_bad_dates = df_dates[ df_dates['year_flag'] == False].copy()\n",
    "df_good_dates = df_dates[ df_dates['year_flag'] == True].copy()\n",
    "df_bad_dates['start_day_17_flag'] = df_bad_dates['trip_start_time'].dt.day == 17\n",
    "df_bad_dates['stop_day_17_flag'] = df_bad_dates['trip_stop_time'].dt.day == 17\n",
    "\n",
    "\n",
    "print(df_bad_dates['start_day_17_flag'].value_counts())\n",
    "print(df_bad_dates['stop_day_17_flag'].value_counts())"
   ]
  },
  {
   "cell_type": "code",
   "execution_count": null,
   "metadata": {},
   "outputs": [],
   "source": [
    "df_bad_dates"
   ]
  },
  {
   "cell_type": "code",
   "execution_count": null,
   "metadata": {},
   "outputs": [],
   "source": [
    "df_good_dates"
   ]
  },
  {
   "cell_type": "code",
   "execution_count": null,
   "metadata": {},
   "outputs": [],
   "source": [
    "def date_mutator(row):\n",
    "    \n",
    "    return pd.Series({\n",
    "        'trip_start_time': row['trip_start_time'],\n",
    "        'trip_start_time': row['trip_start_time']\n",
    "    })"
   ]
  },
  {
   "cell_type": "code",
   "execution_count": null,
   "metadata": {},
   "outputs": [],
   "source": []
  },
  {
   "cell_type": "code",
   "execution_count": null,
   "metadata": {},
   "outputs": [],
   "source": []
  },
  {
   "cell_type": "code",
   "execution_count": null,
   "metadata": {},
   "outputs": [],
   "source": [
    "print('shape:', df_raw.shape)\n",
    "print(df_raw.dtypes)\n",
    "df_ttimes = df_raw"
   ]
  },
  {
   "cell_type": "code",
   "execution_count": null,
   "metadata": {},
   "outputs": [],
   "source": [
    "df_ttimes.dtypes"
   ]
  },
  {
   "cell_type": "code",
   "execution_count": null,
   "metadata": {},
   "outputs": [],
   "source": []
  },
  {
   "cell_type": "markdown",
   "metadata": {},
   "source": [
    "# Check stops"
   ]
  },
  {
   "cell_type": "code",
   "execution_count": null,
   "metadata": {},
   "outputs": [],
   "source": [
    "df_raw['from_station_id'].unique()"
   ]
  },
  {
   "cell_type": "code",
   "execution_count": null,
   "metadata": {},
   "outputs": [],
   "source": [
    "len(df_raw['from_station_id'].unique())"
   ]
  },
  {
   "cell_type": "code",
   "execution_count": null,
   "metadata": {},
   "outputs": [],
   "source": [
    "bool(re.match(r'[0-9]{4}', df_raw['from_station_id'][458752]))"
   ]
  },
  {
   "cell_type": "code",
   "execution_count": null,
   "metadata": {},
   "outputs": [],
   "source": [
    "def matcher(x: str) -> bool:\n",
    "    if type(x) == str:\n",
    "        return bool(re.match(r'[0-9]{4}', x))\n",
    "    return False"
   ]
  },
  {
   "cell_type": "code",
   "execution_count": null,
   "metadata": {},
   "outputs": [],
   "source": [
    "type(df_raw['from_station_id'][458752])"
   ]
  },
  {
   "cell_type": "code",
   "execution_count": null,
   "metadata": {},
   "outputs": [],
   "source": [
    "df_raw['good_id'] = df_raw['from_station_id'].apply(type)\n",
    "df_raw['good_id'] = np.where(df_raw['good_id'] == int, True, False)"
   ]
  },
  {
   "cell_type": "code",
   "execution_count": null,
   "metadata": {},
   "outputs": [],
   "source": [
    "df_bad = df_raw[df_raw['good_id'] ==  False].copy()\n",
    "df_good = df_raw[df_raw['good_id'] == True].copy()\n",
    "df_bad.shape"
   ]
  },
  {
   "cell_type": "code",
   "execution_count": null,
   "metadata": {},
   "outputs": [],
   "source": [
    "df_bad['good_id'] = df_bad['from_station_id'].apply(matcher)"
   ]
  },
  {
   "cell_type": "code",
   "execution_count": null,
   "metadata": {},
   "outputs": [],
   "source": [
    "df_bad"
   ]
  },
  {
   "cell_type": "code",
   "execution_count": null,
   "metadata": {},
   "outputs": [],
   "source": [
    "df_new = df_bad[df_bad['good_id'] == True].copy()\n",
    "df_new2 = df_bad[df_bad['good_id'] == False].copy()"
   ]
  },
  {
   "cell_type": "code",
   "execution_count": null,
   "metadata": {},
   "outputs": [],
   "source": [
    "df_new"
   ]
  },
  {
   "cell_type": "code",
   "execution_count": null,
   "metadata": {},
   "outputs": [],
   "source": [
    "df_new2"
   ]
  },
  {
   "cell_type": "code",
   "execution_count": null,
   "metadata": {},
   "outputs": [],
   "source": [
    "df_new['from_station_id'] = df_new['from_station_id'].astype('int')\n",
    "df_new['to_station_id'] = df_new['to_station_id'].astype('int')\n",
    "df_good['from_station_id'] = df_good['from_station_id'].astype('int')\n",
    "df_good['to_station_id'] = df_good['to_station_id'].astype('int')"
   ]
  },
  {
   "cell_type": "code",
   "execution_count": null,
   "metadata": {},
   "outputs": [],
   "source": [
    "df_new['trip_start_time'] = pd.to_datetime(df_new['trip_start_time'])"
   ]
  },
  {
   "cell_type": "code",
   "execution_count": null,
   "metadata": {},
   "outputs": [],
   "source": [
    "df_new.dtypes"
   ]
  },
  {
   "cell_type": "code",
   "execution_count": null,
   "metadata": {},
   "outputs": [],
   "source": [
    "df_good.dtypes"
   ]
  },
  {
   "cell_type": "code",
   "execution_count": null,
   "metadata": {},
   "outputs": [],
   "source": [
    "\n",
    "start_time_list = df_OG['trip_start_time'].values\n",
    "start_time_list = start_time_list[0:-1]\n",
    "start_time_list.shape\n",
    "df_OG.dtypes"
   ]
  },
  {
   "cell_type": "code",
   "execution_count": null,
   "metadata": {},
   "outputs": [],
   "source": [
    "for x in range(len(start_time_list)):\n",
    "    start_time_list[x] = start_time_list[x].split()"
   ]
  },
  {
   "cell_type": "code",
   "execution_count": null,
   "metadata": {},
   "outputs": [],
   "source": [
    "start_time_list"
   ]
  },
  {
   "cell_type": "code",
   "execution_count": null,
   "metadata": {},
   "outputs": [],
   "source": [
    "start_time_list.shape"
   ]
  },
  {
   "cell_type": "code",
   "execution_count": null,
   "metadata": {},
   "outputs": [],
   "source": [
    "for x in range(len(start_time_list)):\n",
    "    if len(start_time_list[x]) != 2:\n",
    "        print('error: ', x, \";\", len(start_time_list[x]))"
   ]
  },
  {
   "cell_type": "code",
   "execution_count": null,
   "metadata": {},
   "outputs": [],
   "source": [
    "for x in range(len(start_time_list)):\n",
    "    start_time_list[x][0] = start_time_list[x][0].split('/')\n",
    "    #start_time_list[x, 1] = start_time_list[x, 1].split(':')"
   ]
  },
  {
   "cell_type": "code",
   "execution_count": null,
   "metadata": {},
   "outputs": [],
   "source": [
    "start_time_list"
   ]
  },
  {
   "cell_type": "code",
   "execution_count": null,
   "metadata": {},
   "outputs": [],
   "source": [
    "date_split_list = []\n",
    "for x in range(len(start_time_list)):\n",
    "    if len(start_time_list[x][0]) != 3:\n",
    "       date_split_list.append(x)"
   ]
  },
  {
   "cell_type": "code",
   "execution_count": null,
   "metadata": {},
   "outputs": [],
   "source": [
    "months = pd.Series(start_time_list[:][0][0])"
   ]
  },
  {
   "cell_type": "code",
   "execution_count": null,
   "metadata": {},
   "outputs": [],
   "source": [
    "days = pd.Series(start_time_list[:][0][1])"
   ]
  },
  {
   "cell_type": "code",
   "execution_count": null,
   "metadata": {},
   "outputs": [],
   "source": [
    "years = pd.Series(start_time_list[:][0][2])"
   ]
  },
  {
   "cell_type": "code",
   "execution_count": null,
   "metadata": {},
   "outputs": [],
   "source": [
    "print(date_split_list[0])\n",
    "print(len(date_split_list))"
   ]
  },
  {
   "cell_type": "code",
   "execution_count": null,
   "metadata": {},
   "outputs": [],
   "source": [
    "df_raw["
   ]
  }
 ],
 "metadata": {
  "kernelspec": {
   "display_name": "Python 3",
   "language": "python",
   "name": "python3"
  },
  "language_info": {
   "codemirror_mode": {
    "name": "ipython",
    "version": 3
   },
   "file_extension": ".py",
   "mimetype": "text/x-python",
   "name": "python",
   "nbconvert_exporter": "python",
   "pygments_lexer": "ipython3",
   "version": "3.7.6"
  }
 },
 "nbformat": 4,
 "nbformat_minor": 4
}
