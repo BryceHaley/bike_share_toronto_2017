{
 "cells": [
  {
   "cell_type": "code",
   "execution_count": null,
   "metadata": {},
   "outputs": [],
   "source": [
    "import pandas as pd\n",
    "import numpy as np\n",
    "import matplotlib.pyplot as plt\n",
    "import seaborn as sns\n",
    "import os\n",
    "import re\n",
    "from datetime import datetime\n",
    "\n",
    "from dateutil.parser import parse"
   ]
  },
  {
   "cell_type": "code",
   "execution_count": null,
   "metadata": {},
   "outputs": [],
   "source": [
    "df_path = os.path.join('..', '..', 'data', 'interim', '1_tbs_with_date_flags.csv')\n",
    "df = pd.read_csv(df_path, index_col = 0)"
   ]
  },
  {
   "cell_type": "code",
   "execution_count": null,
   "metadata": {},
   "outputs": [],
   "source": [
    "df"
   ]
  },
  {
   "cell_type": "code",
   "execution_count": null,
   "metadata": {},
   "outputs": [],
   "source": [
    "df['trip_start_timeis_good_date'].value_counts()"
   ]
  },
  {
   "cell_type": "code",
   "execution_count": null,
   "metadata": {},
   "outputs": [],
   "source": [
    "test_df = df[:1]\n",
    "test_date = test_df['trip_start_time'][0]\n",
    "print(type(test_date))"
   ]
  },
  {
   "cell_type": "code",
   "execution_count": null,
   "metadata": {},
   "outputs": [],
   "source": [
    "test_date == test_date.strip()"
   ]
  },
  {
   "cell_type": "code",
   "execution_count": null,
   "metadata": {},
   "outputs": [],
   "source": [
    "date, time = test_date.split()\n",
    "print(date)\n",
    "print(time)"
   ]
  },
  {
   "cell_type": "code",
   "execution_count": null,
   "metadata": {},
   "outputs": [],
   "source": [
    "date_arr = date.split('/')\n",
    "day, month, year = int(date_arr[0]), int(date_arr[1]), int(date_arr[2])"
   ]
  },
  {
   "cell_type": "code",
   "execution_count": null,
   "metadata": {},
   "outputs": [],
   "source": [
    "b = datetime(2017, 3, 30, 23, 55, 59)\n",
    "print(b)"
   ]
  },
  {
   "cell_type": "code",
   "execution_count": null,
   "metadata": {},
   "outputs": [],
   "source": [
    "def format_slash_date(date_str: str) -> datetime:\n",
    "    date, time = date_str.split()\n",
    "    date_arr = date.split('/')\n",
    "    print(len(date_arr))\n",
    "    day, month, year = int(date_arr[0]), int(date_arr[1]), int(date_arr[2])\n",
    "    \n",
    "    time_arr = time.split(':')\n",
    "    if len(time_arr) == 3:\n",
    "        hour, minute, second = int(time_arr[0]), int(time_arr[1]), int(time_arr[2])\n",
    "    elif len(time_arr) == 2:\n",
    "        hour, minute, second = 0, int(time_arr[0]), int(time_arr[1])\n",
    "    elif len(time_arr) == 1:\n",
    "        hour, minutes, second = 0, 0 , int(time_arr[0])\n",
    "    else:\n",
    "        hour, minute, second = 0, 0, 0\n",
    "    \n",
    "    return datetime(year, month, day, hour, minute, second)"
   ]
  },
  {
   "cell_type": "code",
   "execution_count": null,
   "metadata": {},
   "outputs": [],
   "source": [
    "def dash_to_slash(datetime_str: str) -> str:\n",
    "    date, time = datetime_str.split()\n",
    "    date_arr = date.split('-')\n",
    "    if len(date_arr[0]) > 2:\n",
    "        date_arr[0] = date_arr[0][-2:]\n",
    "    date_str = '/'.join(date_arr)\n",
    "    ret_string = date_str + ' ' + time\n",
    "    return ret_string"
   ]
  },
  {
   "cell_type": "code",
   "execution_count": null,
   "metadata": {},
   "outputs": [],
   "source": [
    "# import numpy as np\n",
    "\n",
    "# mask = (z['b'] != 0)\n",
    "# z_valid = z[mask]\n",
    "\n",
    "# z['c'] = 0\n",
    "# z.loc[mask, 'c'] = z_valid['a'] / np.log(z_valid['b'])"
   ]
  },
  {
   "cell_type": "code",
   "execution_count": null,
   "metadata": {},
   "outputs": [],
   "source": [
    "    start_dash_mask = (df['trip_start_time_dash_flag'] == True)\n",
    "    start_dash_df = df[start_dash_mask]\n",
    "    \n",
    "    stop_dash_mask = (df['trip_stop_time_dash_flag'] == True)\n",
    "    stop_dash_df = df[stop_dash_mask]\n",
    "    \n",
    "    df.loc[start_dash_mask, 'trip_start_time'] = start_dash_df['trip_start_time'].apply(dash_to_slash)\n",
    "    df.loc[stop_dash_mask, 'trip_stop_time'] = stop_dash_df['trip_stop_time'].apply(dash_to_slash)"
   ]
  },
  {
   "cell_type": "code",
   "execution_count": null,
   "metadata": {},
   "outputs": [],
   "source": [
    "stop_dash_df"
   ]
  },
  {
   "cell_type": "code",
   "execution_count": null,
   "metadata": {},
   "outputs": [],
   "source": []
  },
  {
   "cell_type": "code",
   "execution_count": null,
   "metadata": {},
   "outputs": [],
   "source": [
    "\n"
   ]
  },
  {
   "cell_type": "code",
   "execution_count": null,
   "metadata": {},
   "outputs": [],
   "source": [
    "df"
   ]
  },
  {
   "cell_type": "code",
   "execution_count": null,
   "metadata": {},
   "outputs": [],
   "source": []
  },
  {
   "cell_type": "code",
   "execution_count": null,
   "metadata": {},
   "outputs": [],
   "source": [
    "print(format_slash_date(test_date))"
   ]
  },
  {
   "cell_type": "code",
   "execution_count": null,
   "metadata": {},
   "outputs": [],
   "source": [
    "test_df2 = df[:1000]\n",
    "test_date2 = test_df2['trip_start_time'][599]\n",
    "print(test_date2)\n",
    "\n",
    "print(format_slash_date(test_date2))"
   ]
  },
  {
   "cell_type": "code",
   "execution_count": null,
   "metadata": {},
   "outputs": [],
   "source": [
    "test_df2['trip_start_time'] = test_df2['trip_start_time'].apply(format_slash_date) "
   ]
  },
  {
   "cell_type": "code",
   "execution_count": null,
   "metadata": {},
   "outputs": [],
   "source": [
    "test_df2"
   ]
  },
  {
   "cell_type": "code",
   "execution_count": null,
   "metadata": {},
   "outputs": [],
   "source": [
    "df_dash = df[df['trip_start_time_dash_flag']]"
   ]
  },
  {
   "cell_type": "code",
   "execution_count": null,
   "metadata": {},
   "outputs": [],
   "source": [
    "df_dash"
   ]
  },
  {
   "cell_type": "code",
   "execution_count": null,
   "metadata": {},
   "outputs": [],
   "source": [
    "test_date = df_dash['trip_start_time'][1469816]\n",
    "type(test_date)"
   ]
  },
  {
   "cell_type": "code",
   "execution_count": null,
   "metadata": {},
   "outputs": [],
   "source": [
    "test = '12345'\n",
    "test[-2:]"
   ]
  },
  {
   "cell_type": "code",
   "execution_count": null,
   "metadata": {},
   "outputs": [],
   "source": [
    "print(test_date)\n",
    "dash_to_slash(test_date)"
   ]
  },
  {
   "cell_type": "code",
   "execution_count": null,
   "metadata": {},
   "outputs": [],
   "source": [
    "df"
   ]
  },
  {
   "cell_type": "code",
   "execution_count": null,
   "metadata": {},
   "outputs": [],
   "source": [
    "df_rand = df.sample( n = 1000, random_state = 1 ).copy()"
   ]
  },
  {
   "cell_type": "code",
   "execution_count": null,
   "metadata": {},
   "outputs": [],
   "source": [
    "pd.set_option('display.max_rows', 1000)\n",
    "df_rand.head(1000)"
   ]
  },
  {
   "cell_type": "code",
   "execution_count": null,
   "metadata": {},
   "outputs": [],
   "source": []
  }
 ],
 "metadata": {
  "kernelspec": {
   "display_name": "Python 3",
   "language": "python",
   "name": "python3"
  },
  "language_info": {
   "codemirror_mode": {
    "name": "ipython",
    "version": 3
   },
   "file_extension": ".py",
   "mimetype": "text/x-python",
   "name": "python",
   "nbconvert_exporter": "python",
   "pygments_lexer": "ipython3",
   "version": "3.7.6"
  }
 },
 "nbformat": 4,
 "nbformat_minor": 4
}
