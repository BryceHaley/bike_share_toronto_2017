{
 "cells": [
  {
   "cell_type": "code",
   "execution_count": 64,
   "metadata": {},
   "outputs": [],
   "source": [
    "import pandas as pd\n",
    "import numpy as np\n",
    "import matplotlib.pyplot as plt\n",
    "import seaborn as sns\n",
    "import os\n",
    "import re\n",
    "import datetime\n",
    "\n",
    "from dateutil.parser import parse"
   ]
  },
  {
   "cell_type": "code",
   "execution_count": 65,
   "metadata": {},
   "outputs": [],
   "source": [
    "path = os.path.join('..', '..', 'data', 'processed', '3_tbs_all_filled.csv')\n",
    "df = pd.read_csv(path, index_col = 0)"
   ]
  },
  {
   "cell_type": "code",
   "execution_count": 66,
   "metadata": {},
   "outputs": [
    {
     "data": {
      "text/plain": [
       "False"
      ]
     },
     "execution_count": 66,
     "metadata": {},
     "output_type": "execute_result"
    }
   ],
   "source": [
    "df.isnull().values.any()"
   ]
  },
  {
   "cell_type": "code",
   "execution_count": 67,
   "metadata": {},
   "outputs": [],
   "source": [
    "df['trip_start_time'] = pd.to_datetime(df['trip_start_time'], format='%Y-%m-%d %H:%M:%S')\n",
    "df['trip_stop_time'] = pd.to_datetime(df['trip_stop_time'], format='%Y-%m-%d %H:%M:%S')"
   ]
  },
  {
   "cell_type": "code",
   "execution_count": 68,
   "metadata": {},
   "outputs": [
    {
     "data": {
      "text/plain": [
       "trip_id                           int64\n",
       "trip_start_time          datetime64[ns]\n",
       "trip_stop_time           datetime64[ns]\n",
       "trip_duration_seconds           float64\n",
       "from_station_name                object\n",
       "to_station_name                  object\n",
       "user_type                        object\n",
       "day                               int64\n",
       "week                              int64\n",
       "month                             int64\n",
       "quarter                           int64\n",
       "dtype: object"
      ]
     },
     "execution_count": 68,
     "metadata": {},
     "output_type": "execute_result"
    }
   ],
   "source": [
    "df.dtypes"
   ]
  },
  {
   "cell_type": "code",
   "execution_count": 69,
   "metadata": {},
   "outputs": [],
   "source": [
    "pd.set_option('display.max_rows', 1000)\n",
    "df_rand = df.sample( n = 100000, random_state = 1 ).copy()\n",
    "df_rand = df_rand.sort_index(ascending=True)"
   ]
  },
  {
   "cell_type": "code",
   "execution_count": 70,
   "metadata": {},
   "outputs": [],
   "source": [
    "#df_rand.head(1000)\n"
   ]
  },
  {
   "cell_type": "markdown",
   "metadata": {},
   "source": [
    "# All values make sense"
   ]
  },
  {
   "cell_type": "code",
   "execution_count": 71,
   "metadata": {},
   "outputs": [
    {
     "data": {
      "text/plain": [
       "100000"
      ]
     },
     "execution_count": 71,
     "metadata": {},
     "output_type": "execute_result"
    }
   ],
   "source": [
    "df_rand['trip_id'].nunique()"
   ]
  },
  {
   "cell_type": "code",
   "execution_count": 72,
   "metadata": {},
   "outputs": [
    {
     "data": {
      "text/html": [
       "<div>\n",
       "<style scoped>\n",
       "    .dataframe tbody tr th:only-of-type {\n",
       "        vertical-align: middle;\n",
       "    }\n",
       "\n",
       "    .dataframe tbody tr th {\n",
       "        vertical-align: top;\n",
       "    }\n",
       "\n",
       "    .dataframe thead th {\n",
       "        text-align: right;\n",
       "    }\n",
       "</style>\n",
       "<table border=\"1\" class=\"dataframe\">\n",
       "  <thead>\n",
       "    <tr style=\"text-align: right;\">\n",
       "      <th></th>\n",
       "      <th>trip_id</th>\n",
       "      <th>trip_start_time</th>\n",
       "      <th>trip_stop_time</th>\n",
       "      <th>trip_duration_seconds</th>\n",
       "      <th>from_station_name</th>\n",
       "      <th>to_station_name</th>\n",
       "      <th>user_type</th>\n",
       "      <th>day</th>\n",
       "      <th>week</th>\n",
       "      <th>month</th>\n",
       "      <th>quarter</th>\n",
       "    </tr>\n",
       "  </thead>\n",
       "  <tbody>\n",
       "    <tr>\n",
       "      <th>1492289</th>\n",
       "      <td>2383567</td>\n",
       "      <td>2017-12-31 17:41:34</td>\n",
       "      <td>2017-12-31 17:46:20</td>\n",
       "      <td>286.0</td>\n",
       "      <td>College Park South</td>\n",
       "      <td>Queen St W / James St</td>\n",
       "      <td>Member</td>\n",
       "      <td>6</td>\n",
       "      <td>52</td>\n",
       "      <td>12</td>\n",
       "      <td>4</td>\n",
       "    </tr>\n",
       "    <tr>\n",
       "      <th>1492310</th>\n",
       "      <td>2383588</td>\n",
       "      <td>2017-12-31 18:55:28</td>\n",
       "      <td>2017-12-31 18:59:24</td>\n",
       "      <td>236.0</td>\n",
       "      <td>University Ave / Elm St</td>\n",
       "      <td>Bay St / College St (West Side) - SMART</td>\n",
       "      <td>Member</td>\n",
       "      <td>6</td>\n",
       "      <td>52</td>\n",
       "      <td>12</td>\n",
       "      <td>4</td>\n",
       "    </tr>\n",
       "    <tr>\n",
       "      <th>1492330</th>\n",
       "      <td>2383608</td>\n",
       "      <td>2017-12-31 20:22:46</td>\n",
       "      <td>2017-12-31 20:45:41</td>\n",
       "      <td>1375.0</td>\n",
       "      <td>Ossington Ave / College St</td>\n",
       "      <td>Bathurst St / Fort York Blvd</td>\n",
       "      <td>Member</td>\n",
       "      <td>6</td>\n",
       "      <td>52</td>\n",
       "      <td>12</td>\n",
       "      <td>4</td>\n",
       "    </tr>\n",
       "    <tr>\n",
       "      <th>1492335</th>\n",
       "      <td>2383613</td>\n",
       "      <td>2017-12-31 20:39:41</td>\n",
       "      <td>2017-12-31 20:45:13</td>\n",
       "      <td>332.0</td>\n",
       "      <td>Nelson St / Duncan St</td>\n",
       "      <td>Front St W / Blue Jays Way</td>\n",
       "      <td>Member</td>\n",
       "      <td>6</td>\n",
       "      <td>52</td>\n",
       "      <td>12</td>\n",
       "      <td>4</td>\n",
       "    </tr>\n",
       "    <tr>\n",
       "      <th>1492360</th>\n",
       "      <td>2383638</td>\n",
       "      <td>2017-12-31 23:26:59</td>\n",
       "      <td>2017-12-31 23:37:41</td>\n",
       "      <td>642.0</td>\n",
       "      <td>80 Clinton St (North of College)</td>\n",
       "      <td>East Liberty St / Pirandello St</td>\n",
       "      <td>Member</td>\n",
       "      <td>6</td>\n",
       "      <td>52</td>\n",
       "      <td>12</td>\n",
       "      <td>4</td>\n",
       "    </tr>\n",
       "  </tbody>\n",
       "</table>\n",
       "</div>"
      ],
      "text/plain": [
       "         trip_id     trip_start_time      trip_stop_time  \\\n",
       "1492289  2383567 2017-12-31 17:41:34 2017-12-31 17:46:20   \n",
       "1492310  2383588 2017-12-31 18:55:28 2017-12-31 18:59:24   \n",
       "1492330  2383608 2017-12-31 20:22:46 2017-12-31 20:45:41   \n",
       "1492335  2383613 2017-12-31 20:39:41 2017-12-31 20:45:13   \n",
       "1492360  2383638 2017-12-31 23:26:59 2017-12-31 23:37:41   \n",
       "\n",
       "         trip_duration_seconds                 from_station_name  \\\n",
       "1492289                  286.0                College Park South   \n",
       "1492310                  236.0           University Ave / Elm St   \n",
       "1492330                 1375.0        Ossington Ave / College St   \n",
       "1492335                  332.0             Nelson St / Duncan St   \n",
       "1492360                  642.0  80 Clinton St (North of College)   \n",
       "\n",
       "                                 to_station_name user_type  day  week  month  \\\n",
       "1492289                    Queen St W / James St    Member    6    52     12   \n",
       "1492310  Bay St / College St (West Side) - SMART    Member    6    52     12   \n",
       "1492330             Bathurst St / Fort York Blvd    Member    6    52     12   \n",
       "1492335               Front St W / Blue Jays Way    Member    6    52     12   \n",
       "1492360          East Liberty St / Pirandello St    Member    6    52     12   \n",
       "\n",
       "         quarter  \n",
       "1492289        4  \n",
       "1492310        4  \n",
       "1492330        4  \n",
       "1492335        4  \n",
       "1492360        4  "
      ]
     },
     "execution_count": 72,
     "metadata": {},
     "output_type": "execute_result"
    }
   ],
   "source": [
    "df_rand.tail()"
   ]
  },
  {
   "cell_type": "code",
   "execution_count": 73,
   "metadata": {},
   "outputs": [
    {
     "data": {
      "text/plain": [
       "100000"
      ]
     },
     "execution_count": 73,
     "metadata": {},
     "output_type": "execute_result"
    }
   ],
   "source": [
    "cas = df_rand[df_rand['user_type'] == 'Casual'].shape[0]\n",
    "mem = df_rand[df_rand['user_type'] == 'Member'].shape[0]\n",
    "cas + mem"
   ]
  },
  {
   "cell_type": "code",
   "execution_count": null,
   "metadata": {},
   "outputs": [],
   "source": []
  },
  {
   "cell_type": "code",
   "execution_count": null,
   "metadata": {},
   "outputs": [],
   "source": []
  },
  {
   "cell_type": "code",
   "execution_count": null,
   "metadata": {},
   "outputs": [],
   "source": []
  }
 ],
 "metadata": {
  "kernelspec": {
   "display_name": "Python 3",
   "language": "python",
   "name": "python3"
  },
  "language_info": {
   "codemirror_mode": {
    "name": "ipython",
    "version": 3
   },
   "file_extension": ".py",
   "mimetype": "text/x-python",
   "name": "python",
   "nbconvert_exporter": "python",
   "pygments_lexer": "ipython3",
   "version": "3.7.6"
  }
 },
 "nbformat": 4,
 "nbformat_minor": 4
}
